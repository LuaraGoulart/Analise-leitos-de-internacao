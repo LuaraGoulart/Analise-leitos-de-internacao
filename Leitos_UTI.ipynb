{
 "cells": [
  {
   "cell_type": "code",
   "execution_count": 4,
   "metadata": {},
   "outputs": [],
   "source": [
    "import pandas as pd\n",
    "low_memory=False\n",
    "import matplotlib.pyplot as plt\n",
    "%matplotlib inline\n",
    "pd.options.display.max_columns = 80\n",
    "pd.options.display.max_rows = 90"
   ]
  },
  {
   "cell_type": "code",
   "execution_count": 5,
   "metadata": {
    "scrolled": true
   },
   "outputs": [],
   "source": [
    "df = pd.read_csv('Leitos_de_UTI_em2019.csv')"
   ]
  },
  {
   "cell_type": "code",
   "execution_count": 6,
   "metadata": {},
   "outputs": [
    {
     "data": {
      "text/plain": [
       "(5570, 12)"
      ]
     },
     "execution_count": 6,
     "metadata": {},
     "output_type": "execute_result"
    }
   ],
   "source": [
    "df.shape"
   ]
  },
  {
   "cell_type": "code",
   "execution_count": 7,
   "metadata": {},
   "outputs": [
    {
     "name": "stdout",
     "output_type": "stream",
     "text": [
      "<class 'pandas.core.frame.DataFrame'>\n",
      "RangeIndex: 5570 entries, 0 to 5569\n",
      "Data columns (total 12 columns):\n",
      " #   Column                         Non-Null Count  Dtype  \n",
      "---  ------                         --------------  -----  \n",
      " 0   OBJECTID                       5570 non-null   int64  \n",
      " 1   GR                             5570 non-null   object \n",
      " 2   Nome_Estado                    5570 non-null   object \n",
      " 3   Codigo_Municipio               5570 non-null   int64  \n",
      " 4   Nome_municipio                 5570 non-null   object \n",
      " 5   Pop_Total                      5570 non-null   int64  \n",
      " 6   Leitos_UTI_Total               5570 non-null   int64  \n",
      " 7   Leitos_UTI_100mil_hab_Ind      5570 non-null   float64\n",
      " 8   Leitos_UTI_SUS_Total           5570 non-null   int64  \n",
      " 9   Leitos_UTI_SUS_100mil_hab_Ind  5570 non-null   float64\n",
      " 10  Shape__Area                    5570 non-null   float64\n",
      " 11  Shape__Length                  5570 non-null   float64\n",
      "dtypes: float64(4), int64(5), object(3)\n",
      "memory usage: 522.3+ KB\n"
     ]
    }
   ],
   "source": [
    "df.info()"
   ]
  },
  {
   "cell_type": "code",
   "execution_count": 8,
   "metadata": {},
   "outputs": [
    {
     "data": {
      "text/html": [
       "<div>\n",
       "<style scoped>\n",
       "    .dataframe tbody tr th:only-of-type {\n",
       "        vertical-align: middle;\n",
       "    }\n",
       "\n",
       "    .dataframe tbody tr th {\n",
       "        vertical-align: top;\n",
       "    }\n",
       "\n",
       "    .dataframe thead th {\n",
       "        text-align: right;\n",
       "    }\n",
       "</style>\n",
       "<table border=\"1\" class=\"dataframe\">\n",
       "  <thead>\n",
       "    <tr style=\"text-align: right;\">\n",
       "      <th></th>\n",
       "      <th>OBJECTID</th>\n",
       "      <th>GR</th>\n",
       "      <th>Nome_Estado</th>\n",
       "      <th>Codigo_Municipio</th>\n",
       "      <th>Nome_municipio</th>\n",
       "      <th>Pop_Total</th>\n",
       "      <th>Leitos_UTI_Total</th>\n",
       "      <th>Leitos_UTI_100mil_hab_Ind</th>\n",
       "      <th>Leitos_UTI_SUS_Total</th>\n",
       "      <th>Leitos_UTI_SUS_100mil_hab_Ind</th>\n",
       "      <th>Shape__Area</th>\n",
       "      <th>Shape__Length</th>\n",
       "    </tr>\n",
       "  </thead>\n",
       "  <tbody>\n",
       "    <tr>\n",
       "      <th>1981</th>\n",
       "      <td>1982</td>\n",
       "      <td>Sul</td>\n",
       "      <td>Paraná</td>\n",
       "      <td>4108809</td>\n",
       "      <td>Guaíra</td>\n",
       "      <td>33119</td>\n",
       "      <td>0</td>\n",
       "      <td>0.0</td>\n",
       "      <td>0</td>\n",
       "      <td>0.0</td>\n",
       "      <td>0.049806</td>\n",
       "      <td>1.147373</td>\n",
       "    </tr>\n",
       "    <tr>\n",
       "      <th>2136</th>\n",
       "      <td>2137</td>\n",
       "      <td>Nordeste</td>\n",
       "      <td>Rio Grande do Norte</td>\n",
       "      <td>2404606</td>\n",
       "      <td>Ielmo Marinho</td>\n",
       "      <td>13766</td>\n",
       "      <td>0</td>\n",
       "      <td>0.0</td>\n",
       "      <td>0</td>\n",
       "      <td>0.0</td>\n",
       "      <td>0.025476</td>\n",
       "      <td>0.665951</td>\n",
       "    </tr>\n",
       "    <tr>\n",
       "      <th>1187</th>\n",
       "      <td>1188</td>\n",
       "      <td>Nordeste</td>\n",
       "      <td>Pernambuco</td>\n",
       "      <td>2604205</td>\n",
       "      <td>Catende</td>\n",
       "      <td>42892</td>\n",
       "      <td>0</td>\n",
       "      <td>0.0</td>\n",
       "      <td>0</td>\n",
       "      <td>0.0</td>\n",
       "      <td>0.017026</td>\n",
       "      <td>1.008559</td>\n",
       "    </tr>\n",
       "    <tr>\n",
       "      <th>4594</th>\n",
       "      <td>4595</td>\n",
       "      <td>Nordeste</td>\n",
       "      <td>Pernambuco</td>\n",
       "      <td>2613008</td>\n",
       "      <td>São Bento do Una</td>\n",
       "      <td>59504</td>\n",
       "      <td>0</td>\n",
       "      <td>0.0</td>\n",
       "      <td>0</td>\n",
       "      <td>0.0</td>\n",
       "      <td>0.059061</td>\n",
       "      <td>1.179343</td>\n",
       "    </tr>\n",
       "    <tr>\n",
       "      <th>5381</th>\n",
       "      <td>5382</td>\n",
       "      <td>Sul</td>\n",
       "      <td>Santa Catarina</td>\n",
       "      <td>4218855</td>\n",
       "      <td>União do Oeste</td>\n",
       "      <td>2464</td>\n",
       "      <td>0</td>\n",
       "      <td>0.0</td>\n",
       "      <td>0</td>\n",
       "      <td>0.0</td>\n",
       "      <td>0.008406</td>\n",
       "      <td>0.634633</td>\n",
       "    </tr>\n",
       "    <tr>\n",
       "      <th>84</th>\n",
       "      <td>85</td>\n",
       "      <td>Sudeste</td>\n",
       "      <td>Minas Gerais</td>\n",
       "      <td>3101201</td>\n",
       "      <td>Aiuruoca</td>\n",
       "      <td>6003</td>\n",
       "      <td>0</td>\n",
       "      <td>0.0</td>\n",
       "      <td>0</td>\n",
       "      <td>0.0</td>\n",
       "      <td>0.056801</td>\n",
       "      <td>1.414438</td>\n",
       "    </tr>\n",
       "    <tr>\n",
       "      <th>1957</th>\n",
       "      <td>1958</td>\n",
       "      <td>Nordeste</td>\n",
       "      <td>Maranhão</td>\n",
       "      <td>2104800</td>\n",
       "      <td>Grajaú</td>\n",
       "      <td>69527</td>\n",
       "      <td>0</td>\n",
       "      <td>0.0</td>\n",
       "      <td>0</td>\n",
       "      <td>0.0</td>\n",
       "      <td>0.723747</td>\n",
       "      <td>4.328641</td>\n",
       "    </tr>\n",
       "    <tr>\n",
       "      <th>1734</th>\n",
       "      <td>1735</td>\n",
       "      <td>Nordeste</td>\n",
       "      <td>Pernambuco</td>\n",
       "      <td>2605301</td>\n",
       "      <td>Exu</td>\n",
       "      <td>31825</td>\n",
       "      <td>0</td>\n",
       "      <td>0.0</td>\n",
       "      <td>0</td>\n",
       "      <td>0.0</td>\n",
       "      <td>0.109518</td>\n",
       "      <td>1.495130</td>\n",
       "    </tr>\n",
       "    <tr>\n",
       "      <th>2846</th>\n",
       "      <td>2847</td>\n",
       "      <td>Sudeste</td>\n",
       "      <td>Rio de Janeiro</td>\n",
       "      <td>3302452</td>\n",
       "      <td>Macuco</td>\n",
       "      <td>5599</td>\n",
       "      <td>0</td>\n",
       "      <td>0.0</td>\n",
       "      <td>0</td>\n",
       "      <td>0.0</td>\n",
       "      <td>0.006798</td>\n",
       "      <td>0.517582</td>\n",
       "    </tr>\n",
       "    <tr>\n",
       "      <th>1083</th>\n",
       "      <td>1084</td>\n",
       "      <td>Nordeste</td>\n",
       "      <td>Pernambuco</td>\n",
       "      <td>2603801</td>\n",
       "      <td>Capoeiras</td>\n",
       "      <td>20048</td>\n",
       "      <td>0</td>\n",
       "      <td>0.0</td>\n",
       "      <td>0</td>\n",
       "      <td>0.0</td>\n",
       "      <td>0.027632</td>\n",
       "      <td>0.925412</td>\n",
       "    </tr>\n",
       "  </tbody>\n",
       "</table>\n",
       "</div>"
      ],
      "text/plain": [
       "      OBJECTID        GR          Nome_Estado  Codigo_Municipio  \\\n",
       "1981      1982       Sul               Paraná           4108809   \n",
       "2136      2137  Nordeste  Rio Grande do Norte           2404606   \n",
       "1187      1188  Nordeste           Pernambuco           2604205   \n",
       "4594      4595  Nordeste           Pernambuco           2613008   \n",
       "5381      5382       Sul       Santa Catarina           4218855   \n",
       "84          85   Sudeste         Minas Gerais           3101201   \n",
       "1957      1958  Nordeste             Maranhão           2104800   \n",
       "1734      1735  Nordeste           Pernambuco           2605301   \n",
       "2846      2847   Sudeste       Rio de Janeiro           3302452   \n",
       "1083      1084  Nordeste           Pernambuco           2603801   \n",
       "\n",
       "        Nome_municipio  Pop_Total  Leitos_UTI_Total  \\\n",
       "1981            Guaíra      33119                 0   \n",
       "2136     Ielmo Marinho      13766                 0   \n",
       "1187           Catende      42892                 0   \n",
       "4594  São Bento do Una      59504                 0   \n",
       "5381    União do Oeste       2464                 0   \n",
       "84            Aiuruoca       6003                 0   \n",
       "1957            Grajaú      69527                 0   \n",
       "1734               Exu      31825                 0   \n",
       "2846            Macuco       5599                 0   \n",
       "1083         Capoeiras      20048                 0   \n",
       "\n",
       "      Leitos_UTI_100mil_hab_Ind  Leitos_UTI_SUS_Total  \\\n",
       "1981                        0.0                     0   \n",
       "2136                        0.0                     0   \n",
       "1187                        0.0                     0   \n",
       "4594                        0.0                     0   \n",
       "5381                        0.0                     0   \n",
       "84                          0.0                     0   \n",
       "1957                        0.0                     0   \n",
       "1734                        0.0                     0   \n",
       "2846                        0.0                     0   \n",
       "1083                        0.0                     0   \n",
       "\n",
       "      Leitos_UTI_SUS_100mil_hab_Ind  Shape__Area  Shape__Length  \n",
       "1981                            0.0     0.049806       1.147373  \n",
       "2136                            0.0     0.025476       0.665951  \n",
       "1187                            0.0     0.017026       1.008559  \n",
       "4594                            0.0     0.059061       1.179343  \n",
       "5381                            0.0     0.008406       0.634633  \n",
       "84                              0.0     0.056801       1.414438  \n",
       "1957                            0.0     0.723747       4.328641  \n",
       "1734                            0.0     0.109518       1.495130  \n",
       "2846                            0.0     0.006798       0.517582  \n",
       "1083                            0.0     0.027632       0.925412  "
      ]
     },
     "execution_count": 8,
     "metadata": {},
     "output_type": "execute_result"
    }
   ],
   "source": [
    "df.sample(10)"
   ]
  },
  {
   "cell_type": "code",
   "execution_count": 17,
   "metadata": {},
   "outputs": [
    {
     "data": {
      "text/plain": [
       "Nome_Estado\n",
       "São Paulo              1226\n",
       "Minas Gerais            630\n",
       "Rio de Janeiro          516\n",
       "Pernambuco              460\n",
       "Bahia                   436\n",
       "Rio Grande do Sul       344\n",
       "Goiás                   300\n",
       "Paraná                  269\n",
       "Ceará                   258\n",
       "Amazonas                192\n",
       "Distrito Federal        181\n",
       "Maranhão                161\n",
       "Pará                    154\n",
       "Rio Grande do Norte     146\n",
       "Sergipe                 136\n",
       "Paraíba                 132\n",
       "Rondônia                118\n",
       "Mato Grosso do Sul      116\n",
       "Piauí                   110\n",
       "Espírito Santo          109\n",
       "Mato Grosso              99\n",
       "Alagoas                  88\n",
       "Santa Catarina           63\n",
       "Acre                     33\n",
       "Tocantins                29\n",
       "Roraima                  17\n",
       "Amapá                    12\n",
       "Name: Leitos_UTI_SUS_Total, dtype: int64"
      ]
     },
     "execution_count": 17,
     "metadata": {},
     "output_type": "execute_result"
    }
   ],
   "source": [
    "df.groupby('Nome_Estado')['Leitos_UTI_SUS_Total'].max().sort_values(ascending=False)"
   ]
  },
  {
   "cell_type": "code",
   "execution_count": 29,
   "metadata": {},
   "outputs": [
    {
     "data": {
      "text/plain": [
       "<matplotlib.axes._subplots.AxesSubplot at 0x7f36401c54e0>"
      ]
     },
     "execution_count": 29,
     "metadata": {},
     "output_type": "execute_result"
    },
    {
     "data": {
      "image/png": "[encoded data removed]",
      "text/plain": [
       "<Figure size 432x288 with 1 Axes>"
      ]
     },
     "metadata": {
      "needs_background": "light"
     },
     "output_type": "display_data"
    }
   ],
   "source": [
    "df.groupby('Nome_Estado')['Leitos_UTI_SUS_Total'].max().sort_values().tail(27).plot(kind='barh', color='indianred')"
   ]
  },
  {
   "cell_type": "code",
   "execution_count": 18,
   "metadata": {},
   "outputs": [
    {
     "data": {
      "text/plain": [
       "Nome_Estado\n",
       "São Paulo              3504\n",
       "Rio de Janeiro         2587\n",
       "Minas Gerais           1108\n",
       "Pernambuco              992\n",
       "Bahia                   917\n",
       "Distrito Federal        907\n",
       "Rio Grande do Sul       618\n",
       "Goiás                   611\n",
       "Ceará                   585\n",
       "Paraná                  472\n",
       "Pará                    451\n",
       "Maranhão                357\n",
       "Mato Grosso             353\n",
       "Amazonas                291\n",
       "Rio Grande do Norte     289\n",
       "Mato Grosso do Sul      263\n",
       "Paraíba                 239\n",
       "Sergipe                 231\n",
       "Espírito Santo          202\n",
       "Alagoas                 174\n",
       "Rondônia                167\n",
       "Santa Catarina          165\n",
       "Piauí                   156\n",
       "Tocantins                76\n",
       "Acre                     41\n",
       "Amapá                    40\n",
       "Roraima                  25\n",
       "Name: Leitos_UTI_Total, dtype: int64"
      ]
     },
     "execution_count": 18,
     "metadata": {},
     "output_type": "execute_result"
    }
   ],
   "source": [
    "df.groupby('Nome_Estado')['Leitos_UTI_Total'].max().sort_values(ascending=False)"
   ]
  },
  {
   "cell_type": "code",
   "execution_count": 32,
   "metadata": {},
   "outputs": [
    {
     "data": {
      "text/plain": [
       "<matplotlib.axes._subplots.AxesSubplot at 0x7f363ff52278>"
      ]
     },
     "execution_count": 32,
     "metadata": {},
     "output_type": "execute_result"
    },
    {
     "data": {
      "image/png": "[encoded data removed]",
      "text/plain": [
       "<Figure size 432x288 with 1 Axes>"
      ]
     },
     "metadata": {
      "needs_background": "light"
     },
     "output_type": "display_data"
    }
   ],
   "source": [
    "df.groupby('Nome_Estado')['Leitos_UTI_Total'].max().sort_values().tail(27).plot(kind='bar', color='coral')"
   ]
  },
  {
   "cell_type": "code",
   "execution_count": null,
   "metadata": {},
   "outputs": [],
   "source": []
  }
 ],
 "metadata": {
  "kernelspec": {
   "display_name": "Python 3",
   "language": "python",
   "name": "python3"
  },
  "language_info": {
   "codemirror_mode": {
    "name": "ipython",
    "version": 3
   },
   "file_extension": ".py",
   "mimetype": "text/x-python",
   "name": "python",
   "nbconvert_exporter": "python",
   "pygments_lexer": "ipython3",
   "version": "3.6.9"
  }
 },
 "nbformat": 4,
 "nbformat_minor": 4
}
